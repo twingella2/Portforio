{
 "cells": [
  {
   "cell_type": "code",
   "execution_count": 6,
   "id": "c0edbc9b-4c24-4700-8808-1823981f8c37",
   "metadata": {},
   "outputs": [],
   "source": [
    "# def partition(array, start, end):\n",
    "#     pivot = array[start]\n",
    "#     low = start + 1\n",
    "#     high = end\n",
    "    \n",
    "#     while True:\n",
    "#         while  low <= high and array[high] >= pivot:\n",
    "#             high = high - 1\n",
    "#         while low <= high and array[low] <= pivot:\n",
    "#             low = low + 1\n",
    "#         if low <= high:\n",
    "#             array[low], array[high] = array[high], array[low]\n",
    "#         else:\n",
    "#             break\n",
    "    \n",
    "#     array[start], array[high] = array[high], array[start]\n",
    "    \n",
    "#     return high"
   ]
  },
  {
   "cell_type": "code",
   "execution_count": 7,
   "id": "7a8b5ad5-b97e-483a-a477-cf56c50ca4d8",
   "metadata": {},
   "outputs": [],
   "source": [
    "# def quick_sort(array, start, end):\n",
    "#     if start >= end:\n",
    "#         return\n",
    "    \n",
    "#     p = partition(array, start, end)\n",
    "#     quick_sort(array, start, p-1)\n",
    "#     quick_sort(array, p+1, end)"
   ]
  },
  {
   "cell_type": "code",
   "execution_count": 8,
   "id": "4d90d5b8-ebd8-434c-a0e1-37cbe1ee210b",
   "metadata": {},
   "outputs": [],
   "source": [
    "# array = [29,99,27,41,66,28,44,78,87,19,31,76,58,88,83,97,12,21,44]\n",
    "\n",
    "# quick_sort(array, 0, len(array) - 1)\n",
    "# print(array)"
   ]
  },
  {
   "cell_type": "code",
   "execution_count": null,
   "id": "6fd5be8d-ef23-435b-9a68-a74e43028e0f",
   "metadata": {},
   "outputs": [],
   "source": [
    "def partition(array, start, end):\n",
    "    pivot = start\n",
    "    for i in range(start+1, end+1):\n",
    "        if array[i] <= array[start]:\n",
    "            pivot += 1\n",
    "            array[i], array[pivot] = array[pivot], array[i]\n",
    "        array[pivot], array[start] = array[start], array[pivot]\n",
    "        return pivot\n",
    "\n",
    "def quicksort(array, begin=0, end=None):\n",
    "    if end is None:\n",
    "        end = len(array) - 1\n",
    "    def _quicksort(array, begin, end)\n",
    "        if begin >= end:\n",
    "            return\n",
    "        pivot = partition(array, begin, end)\n",
    "        _quicksort(array, begin, pivot-1)\n",
    "        _quicksort(array, pivot+1, "
   ]
  }
 ],
 "metadata": {
  "kernelspec": {
   "display_name": "Python 3 (ipykernel)",
   "language": "python",
   "name": "python3"
  },
  "language_info": {
   "codemirror_mode": {
    "name": "ipython",
    "version": 3
   },
   "file_extension": ".py",
   "mimetype": "text/x-python",
   "name": "python",
   "nbconvert_exporter": "python",
   "pygments_lexer": "ipython3",
   "version": "3.8.12"
  }
 },
 "nbformat": 4,
 "nbformat_minor": 5
}
