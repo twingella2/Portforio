{
 "cells": [
  {
   "cell_type": "code",
   "execution_count": 1,
   "id": "4ec8a60d-9f82-43ef-975c-55948975e0b1",
   "metadata": {},
   "outputs": [],
   "source": [
    "import numpy as np\n",
    "import random"
   ]
  },
  {
   "cell_type": "code",
   "execution_count": 2,
   "id": "e573d765-c436-4bec-b73c-02e422046812",
   "metadata": {},
   "outputs": [],
   "source": [
    "def heap_sort(array):\n",
    "    i = 0\n",
    "    n = len(array)\n",
    "    \n",
    "    while(i < n):\n",
    "        upheap(array, i)\n",
    "        i += 1\n",
    "        \n",
    "    while(i > 1):\n",
    "        i -= 1\n",
    "        tmp = array[0]\n",
    "        array[0] = array[i]\n",
    "        array[i] = tmp\n",
    "        \n",
    "        downheap(array, i-1)\n",
    "\n",
    "def upheap(array, n):\n",
    "    while n != 0:\n",
    "        parent = int((n-1)/2)\n",
    "        if array[n] > array[parent]:\n",
    "            tmp = array[n]\n",
    "            array[n] = array[parent]\n",
    "            array[parent] = tmp\n",
    "            n = parent\n",
    "        else:\n",
    "            break\n",
    "\n",
    "def downheap(array, n):\n",
    "    if n == 0: return\n",
    "    parent = 0\n",
    "    while True:\n",
    "        child = 2 * parent + 1\n",
    "        if child > n:break\n",
    "        if (child < n) and array[child] < array[child + 1]:\n",
    "            child += 1\n",
    "        if array[parent] < array[child]:\n",
    "            tmp = array[child]\n",
    "            array[child] = array[parent]\n",
    "            array[parent] = tmp\n",
    "            parent = child;\n",
    "        else:\n",
    "            break\n",
    "    \n",
    "def downheap(array, n):\n",
    "    if n == 0: return\n",
    "    parent = 0\n",
    "    while True:\n",
    "        child = 2 * parent + 1\n",
    "        if child > n: break\n",
    "        if (child < n) and array[child] < array[child +1]:\n",
    "            child += 1\n",
    "        if array[parent] < array[child]:\n",
    "            tmp = array[child]\n",
    "            array[child] = array[parent]\n",
    "            array[parent] = tmp\n",
    "            parent = child;\n",
    "        else:\n",
    "            break"
   ]
  },
  {
   "cell_type": "code",
   "execution_count": 3,
   "id": "f906c6ba-e754-4c7b-8e02-710f3f2a79ca",
   "metadata": {},
   "outputs": [
    {
     "name": "stdout",
     "output_type": "stream",
     "text": [
      "before [1, 2, 3, 6, 3, 8, 1, 5, 0]\n",
      "after [0, 1, 1, 2, 3, 3, 5, 6, 8]\n"
     ]
    }
   ],
   "source": [
    "if __name__ == \"__main__\":\n",
    "    array = [1,2,3,6,3,8,1,5,0]\n",
    "    print(\"before\", array)\n",
    "    heap_sort(array)\n",
    "    print(\"after\", array)"
   ]
  },
  {
   "cell_type": "code",
   "execution_count": null,
   "id": "5d87cd7c-61d7-469f-add4-892ec1bb6ed5",
   "metadata": {},
   "outputs": [],
   "source": []
  }
 ],
 "metadata": {
  "kernelspec": {
   "display_name": "Python 3 (ipykernel)",
   "language": "python",
   "name": "python3"
  },
  "language_info": {
   "codemirror_mode": {
    "name": "ipython",
    "version": 3
   },
   "file_extension": ".py",
   "mimetype": "text/x-python",
   "name": "python",
   "nbconvert_exporter": "python",
   "pygments_lexer": "ipython3",
   "version": "3.8.12"
  }
 },
 "nbformat": 4,
 "nbformat_minor": 5
}
