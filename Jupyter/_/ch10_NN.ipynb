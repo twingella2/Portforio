{
 "cells": [
  {
   "cell_type": "code",
   "execution_count": 11,
   "metadata": {},
   "outputs": [],
   "source": [
    "import sys\n",
    "assert sys.version_info >= (3, 5)\n",
    "\n",
    "import sklearn\n",
    "from sklearn.datasets import load_iris\n",
    "from sklearn.linear_model import Perceptron\n",
    "assert sklearn.__version__>=\"0.20\"\n",
    "\n",
    "try:\n",
    "    %tensorflow_version 2.x\n",
    "\n",
    "except Exception:\n",
    "    pass\n",
    "\n",
    "import keras \n",
    "import tensorflow as tf\n",
    "assert tf.__version__>=\"2.0\"\n",
    "\n",
    "# Common import\n",
    "import numpy as np\n",
    "import os\n",
    "\n",
    "# to make same result with sample text\n",
    "np.random.seed(42)\n",
    "tf.random.set_seed(42)\n",
    "\n",
    "#to plot pretty figures\n",
    "%matplotlib inline\n",
    "import matplotlib as mlp\n",
    "import matplotlib.pyplot as plt\n",
    "mlp.rc('axes', labelsize=14)\n",
    "mlp.rc('xtick', labelsize=14)\n",
    "mlp.rc('ytick', labelsize=14)\n",
    "\n",
    "# where to save img files\n",
    "PROJECT_ROOT_DIR = ''\n",
    "CHAPTER_ID = 'ann'\n",
    "IMAGEs_PATH = os.path.join(PROJECT_ROOT_DIR, \"images\", CHAPTER_ID)\n",
    "os.makedirs(IMAGEs_PATH, exist_ok=True)\n",
    "\n",
    "def save_figure(fig_id, tight_layout=True, fig_extension='png', resolution='300'):\n",
    "    path = os.path.join(IMAGEs_PATH, fig_id + \".\" + fig_extension)\n",
    "    print('Save figure', fig_id)\n",
    "    if tight_layout:\n",
    "        plt.tight_layout()\n",
    "    plt.savefig(path, format=fig_extension, dpi=resolution)\n",
    "\n",
    "# Ignore useless warnings\n",
    "import warnings\n",
    "warnings.filterwarnings(action=\"ignore\", message=\"^internal gelsd\")\n"
   ]
  },
  {
   "cell_type": "code",
   "execution_count": 15,
   "metadata": {},
   "outputs": [],
   "source": [
    "iris = load_iris()\n",
    "X = iris.data[:, (2, 3)]\n",
    "y = (iris.target == 0).astype(np.int)\n",
    "\n",
    "perclf = Perceptron(max_iter=1000, tol=1e-3, random_state=42)\n",
    "perclf.fit(X, y)\n",
    "\n",
    "y_pred = per_clf.predict([[2, 0.5]])"
   ]
  },
  {
   "cell_type": "code",
   "execution_count": null,
   "metadata": {},
   "outputs": [],
   "source": [
    "a = -perclf.coef_[0][0] / perclf.coef[0][1]\n",
    "b = -perclf.intercept_ / perclf.coef[0][1]\n",
    "\n",
    "axes = [0, 5, 0, 2]\n",
    "\n",
    "x0, x1 = np.meshgrid(\n",
    "        np.linspace(axes[0], axes[1], 500).reshape(-1, 1),\n",
    "        np.linspace(axes[2], axes[3], 200).reshape(-1, 1),\n",
    ")\n",
    "\n",
    "X_new = np.c_[x0.ravel(), x1.ravel()]\n",
    "y_predict = per_clf.pred(X_new)\n",
    "zz = y_predict.reshape(x0.shape)\n",
    "\n",
    "plt.figure(figsize=(10, 4))\n",
    "plt.plot(X[y==0, 0], X[y==0, 1], \"bs\", label='Not iris setosa')\n",
    "plt.plot(X[y==1, 0], X[y==1, 1], \"yo\", label=\"Iris-setosa\")\n",
    "\n",
    "plt.plot([axes[0], axes[1], [a * axes[0] + b, a * axes[1] + b], \"k-\", linewidth=3])\n",
    "from matplotlib.colors import ListedColormap\n",
    "custom_cmap = ListedColormap('0.42', '')"
   ]
  }
 ],
 "metadata": {
  "kernelspec": {
   "display_name": "Python 3 (ipykernel)",
   "language": "python",
   "name": "python3"
  },
  "language_info": {
   "codemirror_mode": {
    "name": "ipython",
    "version": 3
   },
   "file_extension": ".py",
   "mimetype": "text/x-python",
   "name": "python",
   "nbconvert_exporter": "python",
   "pygments_lexer": "ipython3",
   "version": "3.8.12"
  }
 },
 "nbformat": 4,
 "nbformat_minor": 4
}
