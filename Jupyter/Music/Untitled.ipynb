{
 "cells": [
  {
   "cell_type": "code",
   "execution_count": 1,
   "id": "801c2014-bd02-4e25-9780-cc43637f93eb",
   "metadata": {},
   "outputs": [
    {
     "name": "stdout",
     "output_type": "stream",
     "text": [
      "zsh:1: command not found: apt-get\n",
      "\u001b[33mWARNING: google-api-core 2.8.2 does not provide the extra 'grpcgcp'\u001b[0m\u001b[33m\n",
      "\u001b[0m"
     ]
    }
   ],
   "source": [
    "!apt-get update -qq && apt-get install -qq libfluidsynth1 fluid-soundfont-gm build-essential libasound2-dev libjack-dev\n",
    "!pip install -qU pyfluidsynth pretty_midi\n",
    "!pip install -qU magenta==2.1.0"
   ]
  },
  {
   "cell_type": "code",
   "execution_count": 2,
   "id": "fb774980-c9e8-4606-b797-b8577b181d30",
   "metadata": {},
   "outputs": [
    {
     "ename": "ModuleNotFoundError",
     "evalue": "No module named 'magenta'",
     "output_type": "error",
     "traceback": [
      "\u001b[0;31m---------------------------------------------------------------------------\u001b[0m",
      "\u001b[0;31mModuleNotFoundError\u001b[0m                       Traceback (most recent call last)",
      "Input \u001b[0;32mIn [2]\u001b[0m, in \u001b[0;36m<cell line: 1>\u001b[0;34m()\u001b[0m\n\u001b[0;32m----> 1\u001b[0m \u001b[38;5;28;01mimport\u001b[39;00m \u001b[38;5;21;01mmagenta\u001b[39;00m\n\u001b[1;32m      2\u001b[0m \u001b[38;5;28;01mimport\u001b[39;00m \u001b[38;5;21;01mnote_seq\u001b[39;00m\n\u001b[1;32m      3\u001b[0m \u001b[38;5;28;01mfrom\u001b[39;00m \u001b[38;5;21;01mnote_seq\u001b[39;00m\u001b[38;5;21;01m.\u001b[39;00m\u001b[38;5;21;01mprotobuf\u001b[39;00m \u001b[38;5;28;01mimport\u001b[39;00m music_pb2\n",
      "\u001b[0;31mModuleNotFoundError\u001b[0m: No module named 'magenta'"
     ]
    }
   ],
   "source": [
    "import magenta\n",
    "import note_seq\n",
    "from note_seq.protobuf import music_pb2\n",
    "\n",
    "kira2 = music_pb2.NoteSequence()  # NoteSequence\n",
    "\n",
    "# notesにnoteを追加\n",
    "kira2.notes.add(pitch=60, start_time=0.0, end_time=0.4, velocity=80)\n",
    "kira2.notes.add(pitch=60, start_time=0.4, end_time=0.8, velocity=80)\n",
    "kira2.notes.add(pitch=67, start_time=0.8, end_time=1.2, velocity=80)\n",
    "kira2.notes.add(pitch=67, start_time=1.2, end_time=1.6, velocity=80)\n",
    "kira2.notes.add(pitch=69, start_time=1.6, end_time=2.0, velocity=80)\n",
    "kira2.notes.add(pitch=69, start_time=2.0, end_time=2.4, velocity=80)\n",
    "kira2.notes.add(pitch=67, start_time=2.4, end_time=3.2, velocity=80)\n",
    "kira2.notes.add(pitch=65, start_time=3.2, end_time=3.6, velocity=80)\n",
    "kira2.notes.add(pitch=65, start_time=3.6, end_time=4.0, velocity=80)\n",
    "kira2.notes.add(pitch=64, start_time=4.0, end_time=4.4, velocity=80)\n",
    "kira2.notes.add(pitch=64, start_time=4.4, end_time=4.8, velocity=80)\n",
    "kira2.notes.add(pitch=62, start_time=4.8, end_time=5.2, velocity=80)\n",
    "kira2.notes.add(pitch=62, start_time=5.2, end_time=5.6, velocity=80)\n",
    "kira2.notes.add(pitch=60, start_time=5.6, end_time=6.4, velocity=80) \n",
    "\n",
    "note_seq.plot_sequence(kira2)  # NoteSequenceの可視化\n",
    "note_seq.play_sequence(kira2, synth=note_seq.fluidsynth)  # NoteSequenceの再生"
   ]
  },
  {
   "cell_type": "code",
   "execution_count": null,
   "id": "3611f411-29cc-4a5b-98ad-7ded1796fddf",
   "metadata": {},
   "outputs": [],
   "source": []
  }
 ],
 "metadata": {
  "kernelspec": {
   "display_name": "fortransformer",
   "language": "python",
   "name": "fortransformer"
  },
  "language_info": {
   "codemirror_mode": {
    "name": "ipython",
    "version": 3
   },
   "file_extension": ".py",
   "mimetype": "text/x-python",
   "name": "python",
   "nbconvert_exporter": "python",
   "pygments_lexer": "ipython3",
   "version": "3.9.13"
  }
 },
 "nbformat": 4,
 "nbformat_minor": 5
}
