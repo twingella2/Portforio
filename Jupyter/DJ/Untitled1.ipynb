{
 "cells": [
  {
   "cell_type": "code",
   "execution_count": null,
   "id": "0f449769-1c1e-41e8-aa13-34449ff59d4f",
   "metadata": {},
   "outputs": [],
   "source": [
    "s = \"wekfh;waefogewf\"\n",
    "\n",
    "from collections import defaultdict\n",
    "\n",
    "d = {}\n",
    "d = defaultdict(int)\n",
    "\n",
    "for c in s:\n",
    "    d[c] += 1\n",
    "p"
   ]
  }
 ],
 "metadata": {
  "kernelspec": {
   "display_name": "Python 3 (ipykernel)",
   "language": "python",
   "name": "python3"
  },
  "language_info": {
   "codemirror_mode": {
    "name": "ipython",
    "version": 3
   },
   "file_extension": ".py",
   "mimetype": "text/x-python",
   "name": "python",
   "nbconvert_exporter": "python",
   "pygments_lexer": "ipython3",
   "version": "3.9.13"
  }
 },
 "nbformat": 4,
 "nbformat_minor": 5
}
